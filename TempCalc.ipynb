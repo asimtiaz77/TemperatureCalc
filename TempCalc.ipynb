{
 "cells": [
  {
   "cell_type": "code",
   "execution_count": 2,
   "id": "7e0baab3",
   "metadata": {},
   "outputs": [
    {
     "name": "stdout",
     "output_type": "stream",
     "text": [
      "Enter the patient's temperature (in degrees Fahrenheight): 100\n"
     ]
    }
   ],
   "source": [
    "# input temperature \n",
    "temperature = input(\"Enter the patient's temperature (in degrees Fahrenheight): \")\n"
   ]
  },
  {
   "cell_type": "code",
   "execution_count": 3,
   "id": "c3a24e51",
   "metadata": {},
   "outputs": [
    {
     "name": "stdout",
     "output_type": "stream",
     "text": [
      "The patient has a high temperature.\n"
     ]
    }
   ],
   "source": [
    "# check temperature \n",
    "if temperature.replace(\".\", \"\", 1).isdigit():\n",
    "    temperature_input = float(temperature)\n",
    "    \n",
    "    if temperature_input >= 99.5:\n",
    "        print(\"The patient has a high temperature.\") \n",
    "    else:\n",
    "        print(\"The patient has a normal temperature.\") \n",
    "            \n",
    "else: \n",
    "    print(\"Error: Please enter a valid temperature (numeric value).\")\n",
    "        \n",
    "            \n",
    "            "
   ]
  },
  {
   "cell_type": "code",
   "execution_count": 4,
   "id": "4bae8f05",
   "metadata": {},
   "outputs": [
    {
     "name": "stdout",
     "output_type": "stream",
     "text": [
      "Enter the patient's temperature (in degrees Fahrenheight): 99.5\n"
     ]
    }
   ],
   "source": [
    "# input temperature \n",
    "temperature = input(\"Enter the patient's temperature (in degrees Fahrenheight): \")"
   ]
  },
  {
   "cell_type": "code",
   "execution_count": 6,
   "id": "daa16144",
   "metadata": {},
   "outputs": [
    {
     "name": "stdout",
     "output_type": "stream",
     "text": [
      "The patient has a high temperature.\n"
     ]
    }
   ],
   "source": [
    "# check temperature \n",
    "if temperature.replace(\".\", \"\", 1).isdigit():\n",
    "    temperature_input = float(temperature)\n",
    "    \n",
    "    if temperature_input >= 99.5:\n",
    "        print(\"The patient has a high temperature.\") \n",
    "    else:\n",
    "        print(\"The patient has a normal temperature.\") \n",
    "            \n",
    "else: \n",
    "    print(\"Error: Please enter a valid temperature (numeric value).\")\n",
    "        \n",
    "            "
   ]
  },
  {
   "cell_type": "code",
   "execution_count": 7,
   "id": "b24337b3",
   "metadata": {},
   "outputs": [
    {
     "name": "stdout",
     "output_type": "stream",
     "text": [
      "Enter the patient's temperature (in degrees Fahrenheight): 98.0\n"
     ]
    }
   ],
   "source": [
    "# input temperature \n",
    "temperature = input(\"Enter the patient's temperature (in degrees Fahrenheight): \")"
   ]
  },
  {
   "cell_type": "code",
   "execution_count": 8,
   "id": "0a4325d9",
   "metadata": {},
   "outputs": [
    {
     "name": "stdout",
     "output_type": "stream",
     "text": [
      "The patient has a normal temperature.\n"
     ]
    }
   ],
   "source": [
    "# check temperature \n",
    "if temperature.replace(\".\", \"\", 1).isdigit():\n",
    "    temperature_input = float(temperature)\n",
    "    \n",
    "    if temperature_input >= 99.5:\n",
    "        print(\"The patient has a high temperature.\") \n",
    "    else:\n",
    "        print(\"The patient has a normal temperature.\") \n",
    "            \n",
    "else: \n",
    "    print(\"Error: Please enter a valid temperature (numeric value).\")\n",
    "        "
   ]
  },
  {
   "cell_type": "code",
   "execution_count": 9,
   "id": "ef782b58",
   "metadata": {},
   "outputs": [
    {
     "name": "stdout",
     "output_type": "stream",
     "text": [
      "Enter the patient's temperature (in degrees Fahrenheight): xyz\n"
     ]
    }
   ],
   "source": [
    "# input temperature \n",
    "temperature = input(\"Enter the patient's temperature (in degrees Fahrenheight): \")"
   ]
  },
  {
   "cell_type": "code",
   "execution_count": 10,
   "id": "4f6f0732",
   "metadata": {},
   "outputs": [
    {
     "name": "stdout",
     "output_type": "stream",
     "text": [
      "Error: Please enter a valid temperature (numeric value).\n"
     ]
    }
   ],
   "source": [
    "# check temperature \n",
    "if temperature.replace(\".\", \"\", 1).isdigit():\n",
    "    temperature_input = float(temperature)\n",
    "    \n",
    "    if temperature_input >= 99.5:\n",
    "        print(\"The patient has a high temperature.\") \n",
    "    else:\n",
    "        print(\"The patient has a normal temperature.\") \n",
    "            \n",
    "else: \n",
    "    print(\"Error: Please enter a valid temperature (numeric value).\")\n",
    "        "
   ]
  },
  {
   "cell_type": "code",
   "execution_count": null,
   "id": "463a4e71",
   "metadata": {},
   "outputs": [],
   "source": []
  }
 ],
 "metadata": {
  "kernelspec": {
   "display_name": "Python 3 (ipykernel)",
   "language": "python",
   "name": "python3"
  },
  "language_info": {
   "codemirror_mode": {
    "name": "ipython",
    "version": 3
   },
   "file_extension": ".py",
   "mimetype": "text/x-python",
   "name": "python",
   "nbconvert_exporter": "python",
   "pygments_lexer": "ipython3",
   "version": "3.11.4"
  }
 },
 "nbformat": 4,
 "nbformat_minor": 5
}
